{
 "cells": [
  {
   "cell_type": "markdown",
   "id": "3ad1dcbd",
   "metadata": {},
   "source": [
    "\n",
    "<div style=\"background: linear-gradient(90deg, #00a4ef, #7fba00, #ffb900, #f25022); padding: 20px; border-radius: 10px; text-align: left; color: black;\">\n",
    "    <h1> 🔍 | Step 4: Azure AI Evaluation Sandbox </h1>\n",
    "    <p>\n",
    "    This notebook sets up the client to work with our Azure AI Foundry project - and provides an open-ended sandbox environment to try out some of the other capabilities of the Azure AI Evaluation SDK. This includes data simulators and possibly red teaming\n",
    "    </p>\n",
    "</div>\n"
   ]
  }
 ],
 "metadata": {
  "language_info": {
   "name": "python"
  }
 },
 "nbformat": 4,
 "nbformat_minor": 5
}
