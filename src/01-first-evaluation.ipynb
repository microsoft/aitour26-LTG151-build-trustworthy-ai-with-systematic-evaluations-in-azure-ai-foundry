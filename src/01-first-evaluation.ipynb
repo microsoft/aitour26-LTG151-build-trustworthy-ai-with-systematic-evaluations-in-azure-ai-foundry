{
 "cells": [
  {
   "cell_type": "markdown",
   "id": "a76f0a34",
   "metadata": {},
   "source": [
    "\n",
    "<div style=\"background: linear-gradient(90deg, #00a4ef, #7fba00, #ffb900, #f25022); padding: 20px; border-radius: 10px; text-align: left; color: black;\">\n",
    "    <h1> 🔍 | Step 1: Run Your First Evaluation </h1>\n",
    "    <p>\n",
    "    This notebook sets up the Azure AI Evaluation SDK and walks you through the first _evaluate()_ call with quality and safety evaluators. Use this to get a sense for how evaluations work, and what built-in evaluators are provided to you. **Bonus** - We'll see how the Azure AI Foundry portal renders results\n",
    "    </p>\n",
    "</div>\n"
   ]
  }
 ],
 "metadata": {
  "language_info": {
   "name": "python"
  }
 },
 "nbformat": 4,
 "nbformat_minor": 5
}
