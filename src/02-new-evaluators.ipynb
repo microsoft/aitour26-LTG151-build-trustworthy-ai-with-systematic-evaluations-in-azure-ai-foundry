{
 "cells": [
  {
   "cell_type": "markdown",
   "id": "32c4f743",
   "metadata": {},
   "source": [
    "\n",
    "<div style=\"background: linear-gradient(90deg, #00a4ef, #7fba00, #ffb900, #f25022); padding: 20px; border-radius: 10px; text-align: left; color: black;\">\n",
    "    <h1> 🔍 | Step 2: Run New Evaluators </h1>\n",
    "    <p>\n",
    "    The previous notebook introduced quality and safety evaluators. In this notebook let's take a look at Agentic evaluators, and talk about using custom evaluators to fill any gaps in assessments.\n",
    "    </p>\n",
    "</div>\n"
   ]
  }
 ],
 "metadata": {
  "language_info": {
   "name": "python"
  }
 },
 "nbformat": 4,
 "nbformat_minor": 5
}
